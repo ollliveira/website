{
 "cells": [
  {
   "cell_type": "raw",
   "metadata": {},
   "source": [
    "---\n",
    "title: \"Vega-Altair: Uma Breve Introdução\"\n",
    "date: \"2023-01-01\"\n",
    "categories: [vega-lite, altair, mark_point, mark_bar, encode]\n",
    "page-layout: article\n",
    "image: 'https://altair-viz.github.io/_static/altair-logo-light.png'\n",
    "jupyter: python3\n",
    "---"
   ]
  },
  {
   "cell_type": "markdown",
   "metadata": {
    "tags": []
   },
   "source": [
    "# Vega-lite e Altair\n",
    "\n",
    "[Altair](https://altair-viz.github.io/) é uma biblioteca de gráficos estatísticos interativos para Python, que permite construir visualizações sofisticadas de maneira concisa. Existem outras bibliotecas para criação de gráficos interativos, como [Bokeh](https://bokeh.org/) e [Plotly](https://plotly.com/python/), porém Altair faz uso de uma linguagem declarativa para a construção dos gráficos, em oposição à linguagem imperativa utilizada por outras bibliotecas.\n",
    "\n",
    "Em uma **linguagem declarativa**, o usuário fornece o que ele quer que a visualização inclua, em termos de **dados**, **marcas gráficas** e **canais de codificação**, ao invés de ter de especificar – através de código – como a visualização deve ser construída, o que muitas vezes envolve for-loops e outros comandos específicos, tornando o processo de exploração dos dados mais complicado, trabalhoso e pouco intuitivo.\n",
    "\n",
    "Altair foi desenvolvida baseada em [Vega-Lite](https://vega.github.io/vega-lite/), que é uma gramática de alto-nível para gráficos interativos. De uma maneira simplificada, os gráficos gerados são exibidos diretamente no navegador (Google Chrome, Safari, etc), então recomenda-se o uso de ambientes como JupyterLab, Kaggle or Colab.\n",
    "\n",
    "A ideia chave é a de que o usuário deve declarar os links entre os **dados** que serão utilizados e os repectivos **canais de codificação** para os quais cada **variável** será direcionada. Esses termos ficarão mais claros nos exemplos que iremos trabalhar."
   ]
  },
  {
   "cell_type": "markdown",
   "metadata": {
    "colab_type": "text",
    "id": "Wy1RJr6YaIWG"
   },
   "source": [
    "## Bibliotecas\n",
    "\n",
    "Vamos importar as bibliotecas necessárias: pandas para a leitura e manipulação dos dados, e altair para a visualização."
   ]
  },
  {
   "cell_type": "code",
   "execution_count": 1,
   "metadata": {
    "colab": {},
    "colab_type": "code",
    "id": "zYMsJwmgJ4R7"
   },
   "outputs": [],
   "source": [
    "import pandas as pd\n",
    "import altair as alt"
   ]
  },
  {
   "cell_type": "code",
   "execution_count": 2,
   "metadata": {},
   "outputs": [
    {
     "data": {
      "text/html": [
       "<div>\n",
       "<style scoped>\n",
       "    .dataframe tbody tr th:only-of-type {\n",
       "        vertical-align: middle;\n",
       "    }\n",
       "\n",
       "    .dataframe tbody tr th {\n",
       "        vertical-align: top;\n",
       "    }\n",
       "\n",
       "    .dataframe thead th {\n",
       "        text-align: right;\n",
       "    }\n",
       "</style>\n",
       "<table border=\"1\" class=\"dataframe\">\n",
       "  <thead>\n",
       "    <tr style=\"text-align: right;\">\n",
       "      <th></th>\n",
       "      <th>cidade</th>\n",
       "      <th>descricao</th>\n",
       "      <th>mes</th>\n",
       "      <th>temperatura</th>\n",
       "    </tr>\n",
       "  </thead>\n",
       "  <tbody>\n",
       "    <tr>\n",
       "      <th>0</th>\n",
       "      <td>Ouro Preto</td>\n",
       "      <td>O coração de Minas</td>\n",
       "      <td>Jan</td>\n",
       "      <td>24.5</td>\n",
       "    </tr>\n",
       "    <tr>\n",
       "      <th>1</th>\n",
       "      <td>Ouro Preto</td>\n",
       "      <td>O coração de Minas</td>\n",
       "      <td>Mai</td>\n",
       "      <td>18.7</td>\n",
       "    </tr>\n",
       "    <tr>\n",
       "      <th>2</th>\n",
       "      <td>Ouro Preto</td>\n",
       "      <td>O coração de Minas</td>\n",
       "      <td>Set</td>\n",
       "      <td>21.3</td>\n",
       "    </tr>\n",
       "    <tr>\n",
       "      <th>3</th>\n",
       "      <td>Congonhas</td>\n",
       "      <td>A cidade dos Profetas</td>\n",
       "      <td>Jan</td>\n",
       "      <td>27.2</td>\n",
       "    </tr>\n",
       "    <tr>\n",
       "      <th>4</th>\n",
       "      <td>Congonhas</td>\n",
       "      <td>A cidade dos Profetas</td>\n",
       "      <td>Mai</td>\n",
       "      <td>16.4</td>\n",
       "    </tr>\n",
       "    <tr>\n",
       "      <th>5</th>\n",
       "      <td>Congonhas</td>\n",
       "      <td>A cidade dos Profetas</td>\n",
       "      <td>Set</td>\n",
       "      <td>23.8</td>\n",
       "    </tr>\n",
       "    <tr>\n",
       "      <th>6</th>\n",
       "      <td>Tiradentes</td>\n",
       "      <td>A mais charmosa de Minas</td>\n",
       "      <td>Jan</td>\n",
       "      <td>32.5</td>\n",
       "    </tr>\n",
       "    <tr>\n",
       "      <th>7</th>\n",
       "      <td>Tiradentes</td>\n",
       "      <td>A mais charmosa de Minas</td>\n",
       "      <td>Mai</td>\n",
       "      <td>9.7</td>\n",
       "    </tr>\n",
       "    <tr>\n",
       "      <th>8</th>\n",
       "      <td>Tiradentes</td>\n",
       "      <td>A mais charmosa de Minas</td>\n",
       "      <td>Set</td>\n",
       "      <td>26.3</td>\n",
       "    </tr>\n",
       "  </tbody>\n",
       "</table>\n",
       "</div>"
      ],
      "text/plain": [
       "       cidade                 descricao  mes  temperatura\n",
       "0  Ouro Preto        O coração de Minas  Jan         24.5\n",
       "1  Ouro Preto        O coração de Minas  Mai         18.7\n",
       "2  Ouro Preto        O coração de Minas  Set         21.3\n",
       "3   Congonhas     A cidade dos Profetas  Jan         27.2\n",
       "4   Congonhas     A cidade dos Profetas  Mai         16.4\n",
       "5   Congonhas     A cidade dos Profetas  Set         23.8\n",
       "6  Tiradentes  A mais charmosa de Minas  Jan         32.5\n",
       "7  Tiradentes  A mais charmosa de Minas  Mai          9.7\n",
       "8  Tiradentes  A mais charmosa de Minas  Set         26.3"
      ]
     },
     "execution_count": 2,
     "metadata": {},
     "output_type": "execute_result"
    }
   ],
   "source": [
    "A = 'O coração de Minas'\n",
    "B = 'A cidade dos Profetas'\n",
    "C = 'A mais charmosa de Minas'\n",
    "\n",
    "dados = pd.DataFrame({\n",
    "    'cidade': ['Ouro Preto', 'Ouro Preto', 'Ouro Preto', 'Congonhas', 'Congonhas', 'Congonhas', 'Tiradentes', 'Tiradentes', 'Tiradentes'],\n",
    "    'descricao': [A, A, A, B, B, B, C, C, C],\n",
    "    'mes': ['Jan', 'Mai', 'Set', 'Jan', 'Mai', 'Set', 'Jan', 'Mai', 'Set'],\n",
    "    'temperatura': [24.5, 18.7, 21.3, 27.2, 16.4, 23.8, 32.5, 9.7, 26.3],\n",
    "})\n",
    "\n",
    "dados # exibir o conteúdo de dados"
   ]
  },
  {
   "cell_type": "markdown",
   "metadata": {},
   "source": [
    "Utilizamos o método `DataFrame` da biblioteca pandas para criar uma tabela com 9 observações (linhas: 0 – 8) e quatro variáveis (colunas: cidade, descricao, mes e temperatura), e salvamos essa tabela em dados. Os números são fictícios, e não vamos nos preocupar com unidades de medida por enquanto."
   ]
  },
  {
   "cell_type": "markdown",
   "metadata": {
    "colab_type": "text",
    "id": "ac427IWdb7xx"
   },
   "source": [
    "## O objeto Chart\n",
    "\n",
    "O objeto fundamental em Altair é o `Chart`, e ele recebe como argumento os dados que serão utilizados."
   ]
  },
  {
   "cell_type": "code",
   "execution_count": 3,
   "metadata": {
    "colab": {},
    "colab_type": "code",
    "id": "QqF4GKjDcG4y"
   },
   "outputs": [],
   "source": [
    "grafico = alt.Chart(dados)"
   ]
  },
  {
   "cell_type": "markdown",
   "metadata": {},
   "source": [
    "Nessa linha de código, nós definimos o objeto `Chart` e passamos para ele a tabela de dados que foi gerada anteriormente, mas não especificamos nada em relação ao que deve ser feito com esses dados."
   ]
  },
  {
   "cell_type": "markdown",
   "metadata": {
    "tags": []
   },
   "source": [
    "## Marcas Gráficas\n",
    "\n",
    "Podemos agora especificar como gostaríamos de criar a visualização. O primeiro passo é definir a **marca gráfica** (tipo de gráfico) que queremos utilizar para representar os dados. Existem diversas possibilidades, mas vamos começar definindo a marca ponto, e para isso vamos utilizar o método `mark_point`."
   ]
  },
  {
   "cell_type": "code",
   "execution_count": 4,
   "metadata": {},
   "outputs": [
    {
     "data": {
      "text/html": [
       "\n",
       "<div id=\"altair-viz-f224743e5431460085bc559ff83695ad\"></div>\n",
       "<script type=\"text/javascript\">\n",
       "  var VEGA_DEBUG = (typeof VEGA_DEBUG == \"undefined\") ? {} : VEGA_DEBUG;\n",
       "  (function(spec, embedOpt){\n",
       "    let outputDiv = document.currentScript.previousElementSibling;\n",
       "    if (outputDiv.id !== \"altair-viz-f224743e5431460085bc559ff83695ad\") {\n",
       "      outputDiv = document.getElementById(\"altair-viz-f224743e5431460085bc559ff83695ad\");\n",
       "    }\n",
       "    const paths = {\n",
       "      \"vega\": \"https://cdn.jsdelivr.net/npm//vega@5?noext\",\n",
       "      \"vega-lib\": \"https://cdn.jsdelivr.net/npm//vega-lib?noext\",\n",
       "      \"vega-lite\": \"https://cdn.jsdelivr.net/npm//vega-lite@4.17.0?noext\",\n",
       "      \"vega-embed\": \"https://cdn.jsdelivr.net/npm//vega-embed@6?noext\",\n",
       "    };\n",
       "\n",
       "    function maybeLoadScript(lib, version) {\n",
       "      var key = `${lib.replace(\"-\", \"\")}_version`;\n",
       "      return (VEGA_DEBUG[key] == version) ?\n",
       "        Promise.resolve(paths[lib]) :\n",
       "        new Promise(function(resolve, reject) {\n",
       "          var s = document.createElement('script');\n",
       "          document.getElementsByTagName(\"head\")[0].appendChild(s);\n",
       "          s.async = true;\n",
       "          s.onload = () => {\n",
       "            VEGA_DEBUG[key] = version;\n",
       "            return resolve(paths[lib]);\n",
       "          };\n",
       "          s.onerror = () => reject(`Error loading script: ${paths[lib]}`);\n",
       "          s.src = paths[lib];\n",
       "        });\n",
       "    }\n",
       "\n",
       "    function showError(err) {\n",
       "      outputDiv.innerHTML = `<div class=\"error\" style=\"color:red;\">${err}</div>`;\n",
       "      throw err;\n",
       "    }\n",
       "\n",
       "    function displayChart(vegaEmbed) {\n",
       "      vegaEmbed(outputDiv, spec, embedOpt)\n",
       "        .catch(err => showError(`Javascript Error: ${err.message}<br>This usually means there's a typo in your chart specification. See the javascript console for the full traceback.`));\n",
       "    }\n",
       "\n",
       "    if(typeof define === \"function\" && define.amd) {\n",
       "      requirejs.config({paths});\n",
       "      require([\"vega-embed\"], displayChart, err => showError(`Error loading script: ${err.message}`));\n",
       "    } else {\n",
       "      maybeLoadScript(\"vega\", \"5\")\n",
       "        .then(() => maybeLoadScript(\"vega-lite\", \"4.17.0\"))\n",
       "        .then(() => maybeLoadScript(\"vega-embed\", \"6\"))\n",
       "        .catch(showError)\n",
       "        .then(() => displayChart(vegaEmbed));\n",
       "    }\n",
       "  })({\"config\": {\"view\": {\"continuousWidth\": 400, \"continuousHeight\": 300}}, \"data\": {\"name\": \"data-86d1d7476d6cf273810db465707f1557\"}, \"mark\": \"point\", \"$schema\": \"https://vega.github.io/schema/vega-lite/v4.17.0.json\", \"datasets\": {\"data-86d1d7476d6cf273810db465707f1557\": [{\"cidade\": \"Ouro Preto\", \"descricao\": \"O cora\\u00e7\\u00e3o de Minas\", \"mes\": \"Jan\", \"temperatura\": 24.5}, {\"cidade\": \"Ouro Preto\", \"descricao\": \"O cora\\u00e7\\u00e3o de Minas\", \"mes\": \"Mai\", \"temperatura\": 18.7}, {\"cidade\": \"Ouro Preto\", \"descricao\": \"O cora\\u00e7\\u00e3o de Minas\", \"mes\": \"Set\", \"temperatura\": 21.3}, {\"cidade\": \"Congonhas\", \"descricao\": \"A cidade dos Profetas\", \"mes\": \"Jan\", \"temperatura\": 27.2}, {\"cidade\": \"Congonhas\", \"descricao\": \"A cidade dos Profetas\", \"mes\": \"Mai\", \"temperatura\": 16.4}, {\"cidade\": \"Congonhas\", \"descricao\": \"A cidade dos Profetas\", \"mes\": \"Set\", \"temperatura\": 23.8}, {\"cidade\": \"Tiradentes\", \"descricao\": \"A mais charmosa de Minas\", \"mes\": \"Jan\", \"temperatura\": 32.5}, {\"cidade\": \"Tiradentes\", \"descricao\": \"A mais charmosa de Minas\", \"mes\": \"Mai\", \"temperatura\": 9.7}, {\"cidade\": \"Tiradentes\", \"descricao\": \"A mais charmosa de Minas\", \"mes\": \"Set\", \"temperatura\": 26.3}]}}, {\"mode\": \"vega-lite\"});\n",
       "</script>"
      ],
      "text/plain": [
       "alt.Chart(...)"
      ]
     },
     "execution_count": 4,
     "metadata": {},
     "output_type": "execute_result"
    }
   ],
   "source": [
    "alt.Chart(dados).mark_point()"
   ]
  },
  {
   "cell_type": "markdown",
   "metadata": {},
   "source": [
    "Perceba que obtivemos exatamente o especificado, as 9 observações contidas em dados foram plotadas uma em cima da outra parecendo que temos apenas um ponto, porém os 9 pontos estão no mesmo lugar. Isso aconteceu porque nenhum **canal de codificação** foi especificado, ou seja, não especificamos qual variável deve ser codificada no eixo-x, qual deve ser no eixo-y, qual deve codificada pela cor, etc."
   ]
  },
  {
   "cell_type": "markdown",
   "metadata": {},
   "source": [
    "## Canais de Codificação"
   ]
  },
  {
   "cell_type": "markdown",
   "metadata": {},
   "source": [
    "Para especificar os diferentes canais de codificação, iremos utilizar o método `encode`."
   ]
  },
  {
   "cell_type": "code",
   "execution_count": 5,
   "metadata": {},
   "outputs": [
    {
     "data": {
      "text/html": [
       "\n",
       "<div id=\"altair-viz-8ca2af6654714dd1a9ad42ab73606851\"></div>\n",
       "<script type=\"text/javascript\">\n",
       "  var VEGA_DEBUG = (typeof VEGA_DEBUG == \"undefined\") ? {} : VEGA_DEBUG;\n",
       "  (function(spec, embedOpt){\n",
       "    let outputDiv = document.currentScript.previousElementSibling;\n",
       "    if (outputDiv.id !== \"altair-viz-8ca2af6654714dd1a9ad42ab73606851\") {\n",
       "      outputDiv = document.getElementById(\"altair-viz-8ca2af6654714dd1a9ad42ab73606851\");\n",
       "    }\n",
       "    const paths = {\n",
       "      \"vega\": \"https://cdn.jsdelivr.net/npm//vega@5?noext\",\n",
       "      \"vega-lib\": \"https://cdn.jsdelivr.net/npm//vega-lib?noext\",\n",
       "      \"vega-lite\": \"https://cdn.jsdelivr.net/npm//vega-lite@4.17.0?noext\",\n",
       "      \"vega-embed\": \"https://cdn.jsdelivr.net/npm//vega-embed@6?noext\",\n",
       "    };\n",
       "\n",
       "    function maybeLoadScript(lib, version) {\n",
       "      var key = `${lib.replace(\"-\", \"\")}_version`;\n",
       "      return (VEGA_DEBUG[key] == version) ?\n",
       "        Promise.resolve(paths[lib]) :\n",
       "        new Promise(function(resolve, reject) {\n",
       "          var s = document.createElement('script');\n",
       "          document.getElementsByTagName(\"head\")[0].appendChild(s);\n",
       "          s.async = true;\n",
       "          s.onload = () => {\n",
       "            VEGA_DEBUG[key] = version;\n",
       "            return resolve(paths[lib]);\n",
       "          };\n",
       "          s.onerror = () => reject(`Error loading script: ${paths[lib]}`);\n",
       "          s.src = paths[lib];\n",
       "        });\n",
       "    }\n",
       "\n",
       "    function showError(err) {\n",
       "      outputDiv.innerHTML = `<div class=\"error\" style=\"color:red;\">${err}</div>`;\n",
       "      throw err;\n",
       "    }\n",
       "\n",
       "    function displayChart(vegaEmbed) {\n",
       "      vegaEmbed(outputDiv, spec, embedOpt)\n",
       "        .catch(err => showError(`Javascript Error: ${err.message}<br>This usually means there's a typo in your chart specification. See the javascript console for the full traceback.`));\n",
       "    }\n",
       "\n",
       "    if(typeof define === \"function\" && define.amd) {\n",
       "      requirejs.config({paths});\n",
       "      require([\"vega-embed\"], displayChart, err => showError(`Error loading script: ${err.message}`));\n",
       "    } else {\n",
       "      maybeLoadScript(\"vega\", \"5\")\n",
       "        .then(() => maybeLoadScript(\"vega-lite\", \"4.17.0\"))\n",
       "        .then(() => maybeLoadScript(\"vega-embed\", \"6\"))\n",
       "        .catch(showError)\n",
       "        .then(() => displayChart(vegaEmbed));\n",
       "    }\n",
       "  })({\"config\": {\"view\": {\"continuousWidth\": 400, \"continuousHeight\": 300}}, \"data\": {\"name\": \"data-86d1d7476d6cf273810db465707f1557\"}, \"mark\": \"point\", \"encoding\": {\"y\": {\"field\": \"cidade\", \"type\": \"nominal\"}}, \"$schema\": \"https://vega.github.io/schema/vega-lite/v4.17.0.json\", \"datasets\": {\"data-86d1d7476d6cf273810db465707f1557\": [{\"cidade\": \"Ouro Preto\", \"descricao\": \"O cora\\u00e7\\u00e3o de Minas\", \"mes\": \"Jan\", \"temperatura\": 24.5}, {\"cidade\": \"Ouro Preto\", \"descricao\": \"O cora\\u00e7\\u00e3o de Minas\", \"mes\": \"Mai\", \"temperatura\": 18.7}, {\"cidade\": \"Ouro Preto\", \"descricao\": \"O cora\\u00e7\\u00e3o de Minas\", \"mes\": \"Set\", \"temperatura\": 21.3}, {\"cidade\": \"Congonhas\", \"descricao\": \"A cidade dos Profetas\", \"mes\": \"Jan\", \"temperatura\": 27.2}, {\"cidade\": \"Congonhas\", \"descricao\": \"A cidade dos Profetas\", \"mes\": \"Mai\", \"temperatura\": 16.4}, {\"cidade\": \"Congonhas\", \"descricao\": \"A cidade dos Profetas\", \"mes\": \"Set\", \"temperatura\": 23.8}, {\"cidade\": \"Tiradentes\", \"descricao\": \"A mais charmosa de Minas\", \"mes\": \"Jan\", \"temperatura\": 32.5}, {\"cidade\": \"Tiradentes\", \"descricao\": \"A mais charmosa de Minas\", \"mes\": \"Mai\", \"temperatura\": 9.7}, {\"cidade\": \"Tiradentes\", \"descricao\": \"A mais charmosa de Minas\", \"mes\": \"Set\", \"temperatura\": 26.3}]}}, {\"mode\": \"vega-lite\"});\n",
       "</script>"
      ],
      "text/plain": [
       "alt.Chart(...)"
      ]
     },
     "execution_count": 5,
     "metadata": {},
     "output_type": "execute_result"
    }
   ],
   "source": [
    "alt.Chart(dados).mark_point().encode(\n",
    "    y = 'cidade' # a variável cidade codificada no eixo-y\n",
    ")"
   ]
  },
  {
   "cell_type": "markdown",
   "metadata": {},
   "source": [
    "No gráfico acima, as observações (linhas da tabela) foram distribuídas ao longo do eixo-y, que codificou a variável cidade. Agora os pontos foram distribuídos, mas ainda estão parcialmente sobrepostos pois temos 9 observações, mas estamos exibindo apenas 3 pontos.\n",
    "\n",
    "Iremos explorar aplicações de diferentes canais de codificação com algunas exemplos, veja uma breve lista com algumas das possibilidades:\n",
    "\n",
    "- `y`: codificação do eixo-y\n",
    "- `x`: codificação do eixo-x\n",
    "- `color`: codificação das cores\n",
    "- `shape`: codificação dos formatos\n",
    "- `size`: codificação dos tamanhos\n",
    "- `tooltip`: codificação para a interatividade\n",
    "\n",
    "Vamos visualizar melhor as observações, codificando a variável temperatura no eixo-x:"
   ]
  },
  {
   "cell_type": "code",
   "execution_count": 6,
   "metadata": {},
   "outputs": [
    {
     "data": {
      "text/html": [
       "\n",
       "<div id=\"altair-viz-cd04b6f9c8594dddb29b75cb65f5f001\"></div>\n",
       "<script type=\"text/javascript\">\n",
       "  var VEGA_DEBUG = (typeof VEGA_DEBUG == \"undefined\") ? {} : VEGA_DEBUG;\n",
       "  (function(spec, embedOpt){\n",
       "    let outputDiv = document.currentScript.previousElementSibling;\n",
       "    if (outputDiv.id !== \"altair-viz-cd04b6f9c8594dddb29b75cb65f5f001\") {\n",
       "      outputDiv = document.getElementById(\"altair-viz-cd04b6f9c8594dddb29b75cb65f5f001\");\n",
       "    }\n",
       "    const paths = {\n",
       "      \"vega\": \"https://cdn.jsdelivr.net/npm//vega@5?noext\",\n",
       "      \"vega-lib\": \"https://cdn.jsdelivr.net/npm//vega-lib?noext\",\n",
       "      \"vega-lite\": \"https://cdn.jsdelivr.net/npm//vega-lite@4.17.0?noext\",\n",
       "      \"vega-embed\": \"https://cdn.jsdelivr.net/npm//vega-embed@6?noext\",\n",
       "    };\n",
       "\n",
       "    function maybeLoadScript(lib, version) {\n",
       "      var key = `${lib.replace(\"-\", \"\")}_version`;\n",
       "      return (VEGA_DEBUG[key] == version) ?\n",
       "        Promise.resolve(paths[lib]) :\n",
       "        new Promise(function(resolve, reject) {\n",
       "          var s = document.createElement('script');\n",
       "          document.getElementsByTagName(\"head\")[0].appendChild(s);\n",
       "          s.async = true;\n",
       "          s.onload = () => {\n",
       "            VEGA_DEBUG[key] = version;\n",
       "            return resolve(paths[lib]);\n",
       "          };\n",
       "          s.onerror = () => reject(`Error loading script: ${paths[lib]}`);\n",
       "          s.src = paths[lib];\n",
       "        });\n",
       "    }\n",
       "\n",
       "    function showError(err) {\n",
       "      outputDiv.innerHTML = `<div class=\"error\" style=\"color:red;\">${err}</div>`;\n",
       "      throw err;\n",
       "    }\n",
       "\n",
       "    function displayChart(vegaEmbed) {\n",
       "      vegaEmbed(outputDiv, spec, embedOpt)\n",
       "        .catch(err => showError(`Javascript Error: ${err.message}<br>This usually means there's a typo in your chart specification. See the javascript console for the full traceback.`));\n",
       "    }\n",
       "\n",
       "    if(typeof define === \"function\" && define.amd) {\n",
       "      requirejs.config({paths});\n",
       "      require([\"vega-embed\"], displayChart, err => showError(`Error loading script: ${err.message}`));\n",
       "    } else {\n",
       "      maybeLoadScript(\"vega\", \"5\")\n",
       "        .then(() => maybeLoadScript(\"vega-lite\", \"4.17.0\"))\n",
       "        .then(() => maybeLoadScript(\"vega-embed\", \"6\"))\n",
       "        .catch(showError)\n",
       "        .then(() => displayChart(vegaEmbed));\n",
       "    }\n",
       "  })({\"config\": {\"view\": {\"continuousWidth\": 400, \"continuousHeight\": 300}}, \"data\": {\"name\": \"data-86d1d7476d6cf273810db465707f1557\"}, \"mark\": \"point\", \"encoding\": {\"x\": {\"field\": \"temperatura\", \"type\": \"quantitative\"}, \"y\": {\"field\": \"cidade\", \"type\": \"nominal\"}}, \"$schema\": \"https://vega.github.io/schema/vega-lite/v4.17.0.json\", \"datasets\": {\"data-86d1d7476d6cf273810db465707f1557\": [{\"cidade\": \"Ouro Preto\", \"descricao\": \"O cora\\u00e7\\u00e3o de Minas\", \"mes\": \"Jan\", \"temperatura\": 24.5}, {\"cidade\": \"Ouro Preto\", \"descricao\": \"O cora\\u00e7\\u00e3o de Minas\", \"mes\": \"Mai\", \"temperatura\": 18.7}, {\"cidade\": \"Ouro Preto\", \"descricao\": \"O cora\\u00e7\\u00e3o de Minas\", \"mes\": \"Set\", \"temperatura\": 21.3}, {\"cidade\": \"Congonhas\", \"descricao\": \"A cidade dos Profetas\", \"mes\": \"Jan\", \"temperatura\": 27.2}, {\"cidade\": \"Congonhas\", \"descricao\": \"A cidade dos Profetas\", \"mes\": \"Mai\", \"temperatura\": 16.4}, {\"cidade\": \"Congonhas\", \"descricao\": \"A cidade dos Profetas\", \"mes\": \"Set\", \"temperatura\": 23.8}, {\"cidade\": \"Tiradentes\", \"descricao\": \"A mais charmosa de Minas\", \"mes\": \"Jan\", \"temperatura\": 32.5}, {\"cidade\": \"Tiradentes\", \"descricao\": \"A mais charmosa de Minas\", \"mes\": \"Mai\", \"temperatura\": 9.7}, {\"cidade\": \"Tiradentes\", \"descricao\": \"A mais charmosa de Minas\", \"mes\": \"Set\", \"temperatura\": 26.3}]}}, {\"mode\": \"vega-lite\"});\n",
       "</script>"
      ],
      "text/plain": [
       "alt.Chart(...)"
      ]
     },
     "execution_count": 6,
     "metadata": {},
     "output_type": "execute_result"
    }
   ],
   "source": [
    "alt.Chart(dados).mark_point().encode(\n",
    "    y = 'cidade',\n",
    "    x = 'temperatura'\n",
    ")"
   ]
  },
  {
   "cell_type": "markdown",
   "metadata": {},
   "source": [
    "Agora temos uma visualização mais adequada e podemos perceber que, entre as três cidades, Tiradentes exibe a menor e a maior temperatura! Perceba agora a vantagem de Altair como uma linguagem declarativa: vamos criar variações alterando apenas as especificações dos canais de codificação."
   ]
  },
  {
   "cell_type": "code",
   "execution_count": 7,
   "metadata": {},
   "outputs": [
    {
     "data": {
      "text/html": [
       "\n",
       "<div id=\"altair-viz-13179c4a93ae452a9929062f1aca5f73\"></div>\n",
       "<script type=\"text/javascript\">\n",
       "  var VEGA_DEBUG = (typeof VEGA_DEBUG == \"undefined\") ? {} : VEGA_DEBUG;\n",
       "  (function(spec, embedOpt){\n",
       "    let outputDiv = document.currentScript.previousElementSibling;\n",
       "    if (outputDiv.id !== \"altair-viz-13179c4a93ae452a9929062f1aca5f73\") {\n",
       "      outputDiv = document.getElementById(\"altair-viz-13179c4a93ae452a9929062f1aca5f73\");\n",
       "    }\n",
       "    const paths = {\n",
       "      \"vega\": \"https://cdn.jsdelivr.net/npm//vega@5?noext\",\n",
       "      \"vega-lib\": \"https://cdn.jsdelivr.net/npm//vega-lib?noext\",\n",
       "      \"vega-lite\": \"https://cdn.jsdelivr.net/npm//vega-lite@4.17.0?noext\",\n",
       "      \"vega-embed\": \"https://cdn.jsdelivr.net/npm//vega-embed@6?noext\",\n",
       "    };\n",
       "\n",
       "    function maybeLoadScript(lib, version) {\n",
       "      var key = `${lib.replace(\"-\", \"\")}_version`;\n",
       "      return (VEGA_DEBUG[key] == version) ?\n",
       "        Promise.resolve(paths[lib]) :\n",
       "        new Promise(function(resolve, reject) {\n",
       "          var s = document.createElement('script');\n",
       "          document.getElementsByTagName(\"head\")[0].appendChild(s);\n",
       "          s.async = true;\n",
       "          s.onload = () => {\n",
       "            VEGA_DEBUG[key] = version;\n",
       "            return resolve(paths[lib]);\n",
       "          };\n",
       "          s.onerror = () => reject(`Error loading script: ${paths[lib]}`);\n",
       "          s.src = paths[lib];\n",
       "        });\n",
       "    }\n",
       "\n",
       "    function showError(err) {\n",
       "      outputDiv.innerHTML = `<div class=\"error\" style=\"color:red;\">${err}</div>`;\n",
       "      throw err;\n",
       "    }\n",
       "\n",
       "    function displayChart(vegaEmbed) {\n",
       "      vegaEmbed(outputDiv, spec, embedOpt)\n",
       "        .catch(err => showError(`Javascript Error: ${err.message}<br>This usually means there's a typo in your chart specification. See the javascript console for the full traceback.`));\n",
       "    }\n",
       "\n",
       "    if(typeof define === \"function\" && define.amd) {\n",
       "      requirejs.config({paths});\n",
       "      require([\"vega-embed\"], displayChart, err => showError(`Error loading script: ${err.message}`));\n",
       "    } else {\n",
       "      maybeLoadScript(\"vega\", \"5\")\n",
       "        .then(() => maybeLoadScript(\"vega-lite\", \"4.17.0\"))\n",
       "        .then(() => maybeLoadScript(\"vega-embed\", \"6\"))\n",
       "        .catch(showError)\n",
       "        .then(() => displayChart(vegaEmbed));\n",
       "    }\n",
       "  })({\"config\": {\"view\": {\"continuousWidth\": 400, \"continuousHeight\": 300}}, \"data\": {\"name\": \"data-86d1d7476d6cf273810db465707f1557\"}, \"mark\": \"point\", \"encoding\": {\"color\": {\"field\": \"cidade\", \"type\": \"nominal\"}, \"x\": {\"field\": \"temperatura\", \"type\": \"quantitative\"}, \"y\": {\"field\": \"mes\", \"type\": \"nominal\"}}, \"$schema\": \"https://vega.github.io/schema/vega-lite/v4.17.0.json\", \"datasets\": {\"data-86d1d7476d6cf273810db465707f1557\": [{\"cidade\": \"Ouro Preto\", \"descricao\": \"O cora\\u00e7\\u00e3o de Minas\", \"mes\": \"Jan\", \"temperatura\": 24.5}, {\"cidade\": \"Ouro Preto\", \"descricao\": \"O cora\\u00e7\\u00e3o de Minas\", \"mes\": \"Mai\", \"temperatura\": 18.7}, {\"cidade\": \"Ouro Preto\", \"descricao\": \"O cora\\u00e7\\u00e3o de Minas\", \"mes\": \"Set\", \"temperatura\": 21.3}, {\"cidade\": \"Congonhas\", \"descricao\": \"A cidade dos Profetas\", \"mes\": \"Jan\", \"temperatura\": 27.2}, {\"cidade\": \"Congonhas\", \"descricao\": \"A cidade dos Profetas\", \"mes\": \"Mai\", \"temperatura\": 16.4}, {\"cidade\": \"Congonhas\", \"descricao\": \"A cidade dos Profetas\", \"mes\": \"Set\", \"temperatura\": 23.8}, {\"cidade\": \"Tiradentes\", \"descricao\": \"A mais charmosa de Minas\", \"mes\": \"Jan\", \"temperatura\": 32.5}, {\"cidade\": \"Tiradentes\", \"descricao\": \"A mais charmosa de Minas\", \"mes\": \"Mai\", \"temperatura\": 9.7}, {\"cidade\": \"Tiradentes\", \"descricao\": \"A mais charmosa de Minas\", \"mes\": \"Set\", \"temperatura\": 26.3}]}}, {\"mode\": \"vega-lite\"});\n",
       "</script>"
      ],
      "text/plain": [
       "alt.Chart(...)"
      ]
     },
     "execution_count": 7,
     "metadata": {},
     "output_type": "execute_result"
    }
   ],
   "source": [
    "alt.Chart(dados).mark_point().encode(\n",
    "    y = 'mes',\n",
    "    x = 'temperatura',\n",
    "    color = 'cidade' # a variável cidade codificada na cor\n",
    ")"
   ]
  },
  {
   "cell_type": "code",
   "execution_count": 8,
   "metadata": {},
   "outputs": [
    {
     "data": {
      "text/html": [
       "\n",
       "<div id=\"altair-viz-22094c48462e4fe0bef0eb7318b62f11\"></div>\n",
       "<script type=\"text/javascript\">\n",
       "  var VEGA_DEBUG = (typeof VEGA_DEBUG == \"undefined\") ? {} : VEGA_DEBUG;\n",
       "  (function(spec, embedOpt){\n",
       "    let outputDiv = document.currentScript.previousElementSibling;\n",
       "    if (outputDiv.id !== \"altair-viz-22094c48462e4fe0bef0eb7318b62f11\") {\n",
       "      outputDiv = document.getElementById(\"altair-viz-22094c48462e4fe0bef0eb7318b62f11\");\n",
       "    }\n",
       "    const paths = {\n",
       "      \"vega\": \"https://cdn.jsdelivr.net/npm//vega@5?noext\",\n",
       "      \"vega-lib\": \"https://cdn.jsdelivr.net/npm//vega-lib?noext\",\n",
       "      \"vega-lite\": \"https://cdn.jsdelivr.net/npm//vega-lite@4.17.0?noext\",\n",
       "      \"vega-embed\": \"https://cdn.jsdelivr.net/npm//vega-embed@6?noext\",\n",
       "    };\n",
       "\n",
       "    function maybeLoadScript(lib, version) {\n",
       "      var key = `${lib.replace(\"-\", \"\")}_version`;\n",
       "      return (VEGA_DEBUG[key] == version) ?\n",
       "        Promise.resolve(paths[lib]) :\n",
       "        new Promise(function(resolve, reject) {\n",
       "          var s = document.createElement('script');\n",
       "          document.getElementsByTagName(\"head\")[0].appendChild(s);\n",
       "          s.async = true;\n",
       "          s.onload = () => {\n",
       "            VEGA_DEBUG[key] = version;\n",
       "            return resolve(paths[lib]);\n",
       "          };\n",
       "          s.onerror = () => reject(`Error loading script: ${paths[lib]}`);\n",
       "          s.src = paths[lib];\n",
       "        });\n",
       "    }\n",
       "\n",
       "    function showError(err) {\n",
       "      outputDiv.innerHTML = `<div class=\"error\" style=\"color:red;\">${err}</div>`;\n",
       "      throw err;\n",
       "    }\n",
       "\n",
       "    function displayChart(vegaEmbed) {\n",
       "      vegaEmbed(outputDiv, spec, embedOpt)\n",
       "        .catch(err => showError(`Javascript Error: ${err.message}<br>This usually means there's a typo in your chart specification. See the javascript console for the full traceback.`));\n",
       "    }\n",
       "\n",
       "    if(typeof define === \"function\" && define.amd) {\n",
       "      requirejs.config({paths});\n",
       "      require([\"vega-embed\"], displayChart, err => showError(`Error loading script: ${err.message}`));\n",
       "    } else {\n",
       "      maybeLoadScript(\"vega\", \"5\")\n",
       "        .then(() => maybeLoadScript(\"vega-lite\", \"4.17.0\"))\n",
       "        .then(() => maybeLoadScript(\"vega-embed\", \"6\"))\n",
       "        .catch(showError)\n",
       "        .then(() => displayChart(vegaEmbed));\n",
       "    }\n",
       "  })({\"config\": {\"view\": {\"continuousWidth\": 400, \"continuousHeight\": 300}}, \"data\": {\"name\": \"data-86d1d7476d6cf273810db465707f1557\"}, \"mark\": \"point\", \"encoding\": {\"shape\": {\"field\": \"cidade\", \"type\": \"nominal\"}, \"x\": {\"field\": \"temperatura\", \"type\": \"quantitative\"}, \"y\": {\"field\": \"mes\", \"type\": \"nominal\"}}, \"$schema\": \"https://vega.github.io/schema/vega-lite/v4.17.0.json\", \"datasets\": {\"data-86d1d7476d6cf273810db465707f1557\": [{\"cidade\": \"Ouro Preto\", \"descricao\": \"O cora\\u00e7\\u00e3o de Minas\", \"mes\": \"Jan\", \"temperatura\": 24.5}, {\"cidade\": \"Ouro Preto\", \"descricao\": \"O cora\\u00e7\\u00e3o de Minas\", \"mes\": \"Mai\", \"temperatura\": 18.7}, {\"cidade\": \"Ouro Preto\", \"descricao\": \"O cora\\u00e7\\u00e3o de Minas\", \"mes\": \"Set\", \"temperatura\": 21.3}, {\"cidade\": \"Congonhas\", \"descricao\": \"A cidade dos Profetas\", \"mes\": \"Jan\", \"temperatura\": 27.2}, {\"cidade\": \"Congonhas\", \"descricao\": \"A cidade dos Profetas\", \"mes\": \"Mai\", \"temperatura\": 16.4}, {\"cidade\": \"Congonhas\", \"descricao\": \"A cidade dos Profetas\", \"mes\": \"Set\", \"temperatura\": 23.8}, {\"cidade\": \"Tiradentes\", \"descricao\": \"A mais charmosa de Minas\", \"mes\": \"Jan\", \"temperatura\": 32.5}, {\"cidade\": \"Tiradentes\", \"descricao\": \"A mais charmosa de Minas\", \"mes\": \"Mai\", \"temperatura\": 9.7}, {\"cidade\": \"Tiradentes\", \"descricao\": \"A mais charmosa de Minas\", \"mes\": \"Set\", \"temperatura\": 26.3}]}}, {\"mode\": \"vega-lite\"});\n",
       "</script>"
      ],
      "text/plain": [
       "alt.Chart(...)"
      ]
     },
     "execution_count": 8,
     "metadata": {},
     "output_type": "execute_result"
    }
   ],
   "source": [
    "alt.Chart(dados).mark_point().encode(\n",
    "    y = 'mes',         \n",
    "    x = 'temperatura', \n",
    "    shape = 'cidade' # a variável cidade codificada no formato\n",
    ")"
   ]
  },
  {
   "cell_type": "code",
   "execution_count": 9,
   "metadata": {},
   "outputs": [
    {
     "data": {
      "text/html": [
       "\n",
       "<div id=\"altair-viz-5c7d81f9a9b84a2db7b89045d1fc4486\"></div>\n",
       "<script type=\"text/javascript\">\n",
       "  var VEGA_DEBUG = (typeof VEGA_DEBUG == \"undefined\") ? {} : VEGA_DEBUG;\n",
       "  (function(spec, embedOpt){\n",
       "    let outputDiv = document.currentScript.previousElementSibling;\n",
       "    if (outputDiv.id !== \"altair-viz-5c7d81f9a9b84a2db7b89045d1fc4486\") {\n",
       "      outputDiv = document.getElementById(\"altair-viz-5c7d81f9a9b84a2db7b89045d1fc4486\");\n",
       "    }\n",
       "    const paths = {\n",
       "      \"vega\": \"https://cdn.jsdelivr.net/npm//vega@5?noext\",\n",
       "      \"vega-lib\": \"https://cdn.jsdelivr.net/npm//vega-lib?noext\",\n",
       "      \"vega-lite\": \"https://cdn.jsdelivr.net/npm//vega-lite@4.17.0?noext\",\n",
       "      \"vega-embed\": \"https://cdn.jsdelivr.net/npm//vega-embed@6?noext\",\n",
       "    };\n",
       "\n",
       "    function maybeLoadScript(lib, version) {\n",
       "      var key = `${lib.replace(\"-\", \"\")}_version`;\n",
       "      return (VEGA_DEBUG[key] == version) ?\n",
       "        Promise.resolve(paths[lib]) :\n",
       "        new Promise(function(resolve, reject) {\n",
       "          var s = document.createElement('script');\n",
       "          document.getElementsByTagName(\"head\")[0].appendChild(s);\n",
       "          s.async = true;\n",
       "          s.onload = () => {\n",
       "            VEGA_DEBUG[key] = version;\n",
       "            return resolve(paths[lib]);\n",
       "          };\n",
       "          s.onerror = () => reject(`Error loading script: ${paths[lib]}`);\n",
       "          s.src = paths[lib];\n",
       "        });\n",
       "    }\n",
       "\n",
       "    function showError(err) {\n",
       "      outputDiv.innerHTML = `<div class=\"error\" style=\"color:red;\">${err}</div>`;\n",
       "      throw err;\n",
       "    }\n",
       "\n",
       "    function displayChart(vegaEmbed) {\n",
       "      vegaEmbed(outputDiv, spec, embedOpt)\n",
       "        .catch(err => showError(`Javascript Error: ${err.message}<br>This usually means there's a typo in your chart specification. See the javascript console for the full traceback.`));\n",
       "    }\n",
       "\n",
       "    if(typeof define === \"function\" && define.amd) {\n",
       "      requirejs.config({paths});\n",
       "      require([\"vega-embed\"], displayChart, err => showError(`Error loading script: ${err.message}`));\n",
       "    } else {\n",
       "      maybeLoadScript(\"vega\", \"5\")\n",
       "        .then(() => maybeLoadScript(\"vega-lite\", \"4.17.0\"))\n",
       "        .then(() => maybeLoadScript(\"vega-embed\", \"6\"))\n",
       "        .catch(showError)\n",
       "        .then(() => displayChart(vegaEmbed));\n",
       "    }\n",
       "  })({\"config\": {\"view\": {\"continuousWidth\": 400, \"continuousHeight\": 300}}, \"data\": {\"name\": \"data-86d1d7476d6cf273810db465707f1557\"}, \"mark\": \"point\", \"encoding\": {\"color\": {\"field\": \"cidade\", \"type\": \"nominal\"}, \"size\": {\"field\": \"temperatura\", \"type\": \"quantitative\"}, \"x\": {\"field\": \"temperatura\", \"type\": \"quantitative\"}, \"y\": {\"field\": \"mes\", \"type\": \"nominal\"}}, \"$schema\": \"https://vega.github.io/schema/vega-lite/v4.17.0.json\", \"datasets\": {\"data-86d1d7476d6cf273810db465707f1557\": [{\"cidade\": \"Ouro Preto\", \"descricao\": \"O cora\\u00e7\\u00e3o de Minas\", \"mes\": \"Jan\", \"temperatura\": 24.5}, {\"cidade\": \"Ouro Preto\", \"descricao\": \"O cora\\u00e7\\u00e3o de Minas\", \"mes\": \"Mai\", \"temperatura\": 18.7}, {\"cidade\": \"Ouro Preto\", \"descricao\": \"O cora\\u00e7\\u00e3o de Minas\", \"mes\": \"Set\", \"temperatura\": 21.3}, {\"cidade\": \"Congonhas\", \"descricao\": \"A cidade dos Profetas\", \"mes\": \"Jan\", \"temperatura\": 27.2}, {\"cidade\": \"Congonhas\", \"descricao\": \"A cidade dos Profetas\", \"mes\": \"Mai\", \"temperatura\": 16.4}, {\"cidade\": \"Congonhas\", \"descricao\": \"A cidade dos Profetas\", \"mes\": \"Set\", \"temperatura\": 23.8}, {\"cidade\": \"Tiradentes\", \"descricao\": \"A mais charmosa de Minas\", \"mes\": \"Jan\", \"temperatura\": 32.5}, {\"cidade\": \"Tiradentes\", \"descricao\": \"A mais charmosa de Minas\", \"mes\": \"Mai\", \"temperatura\": 9.7}, {\"cidade\": \"Tiradentes\", \"descricao\": \"A mais charmosa de Minas\", \"mes\": \"Set\", \"temperatura\": 26.3}]}}, {\"mode\": \"vega-lite\"});\n",
       "</script>"
      ],
      "text/plain": [
       "alt.Chart(...)"
      ]
     },
     "execution_count": 9,
     "metadata": {},
     "output_type": "execute_result"
    }
   ],
   "source": [
    "alt.Chart(dados).mark_point().encode(\n",
    "    y = 'mes',         \n",
    "    x = 'temperatura',\n",
    "    color = 'cidade',\n",
    "    size = 'temperatura' # a variável temperatura codificada no tamanho\n",
    ")"
   ]
  },
  {
   "cell_type": "markdown",
   "metadata": {},
   "source": [
    "Neste último gráfico, a variável temperatura está codificada tanto no eixo-x quanto no tamanho, e as legendas são geradas de maneira automática, porém você pode ajustá-las como preferir. Não me parece a melhor escolha de codificações para essa caso, mas ajuda a ilustrar as possibilidades."
   ]
  },
  {
   "cell_type": "markdown",
   "metadata": {},
   "source": [
    "## Interatividade"
   ]
  },
  {
   "cell_type": "markdown",
   "metadata": {},
   "source": [
    "Vamos agora codificar uma lista de duas variáveis no canal `tooltip`, e criar interatividade através do método `interactive`."
   ]
  },
  {
   "cell_type": "code",
   "execution_count": 10,
   "metadata": {},
   "outputs": [
    {
     "data": {
      "text/html": [
       "\n",
       "<div id=\"altair-viz-60a4694fe03f46b29e171410109bdade\"></div>\n",
       "<script type=\"text/javascript\">\n",
       "  var VEGA_DEBUG = (typeof VEGA_DEBUG == \"undefined\") ? {} : VEGA_DEBUG;\n",
       "  (function(spec, embedOpt){\n",
       "    let outputDiv = document.currentScript.previousElementSibling;\n",
       "    if (outputDiv.id !== \"altair-viz-60a4694fe03f46b29e171410109bdade\") {\n",
       "      outputDiv = document.getElementById(\"altair-viz-60a4694fe03f46b29e171410109bdade\");\n",
       "    }\n",
       "    const paths = {\n",
       "      \"vega\": \"https://cdn.jsdelivr.net/npm//vega@5?noext\",\n",
       "      \"vega-lib\": \"https://cdn.jsdelivr.net/npm//vega-lib?noext\",\n",
       "      \"vega-lite\": \"https://cdn.jsdelivr.net/npm//vega-lite@4.17.0?noext\",\n",
       "      \"vega-embed\": \"https://cdn.jsdelivr.net/npm//vega-embed@6?noext\",\n",
       "    };\n",
       "\n",
       "    function maybeLoadScript(lib, version) {\n",
       "      var key = `${lib.replace(\"-\", \"\")}_version`;\n",
       "      return (VEGA_DEBUG[key] == version) ?\n",
       "        Promise.resolve(paths[lib]) :\n",
       "        new Promise(function(resolve, reject) {\n",
       "          var s = document.createElement('script');\n",
       "          document.getElementsByTagName(\"head\")[0].appendChild(s);\n",
       "          s.async = true;\n",
       "          s.onload = () => {\n",
       "            VEGA_DEBUG[key] = version;\n",
       "            return resolve(paths[lib]);\n",
       "          };\n",
       "          s.onerror = () => reject(`Error loading script: ${paths[lib]}`);\n",
       "          s.src = paths[lib];\n",
       "        });\n",
       "    }\n",
       "\n",
       "    function showError(err) {\n",
       "      outputDiv.innerHTML = `<div class=\"error\" style=\"color:red;\">${err}</div>`;\n",
       "      throw err;\n",
       "    }\n",
       "\n",
       "    function displayChart(vegaEmbed) {\n",
       "      vegaEmbed(outputDiv, spec, embedOpt)\n",
       "        .catch(err => showError(`Javascript Error: ${err.message}<br>This usually means there's a typo in your chart specification. See the javascript console for the full traceback.`));\n",
       "    }\n",
       "\n",
       "    if(typeof define === \"function\" && define.amd) {\n",
       "      requirejs.config({paths});\n",
       "      require([\"vega-embed\"], displayChart, err => showError(`Error loading script: ${err.message}`));\n",
       "    } else {\n",
       "      maybeLoadScript(\"vega\", \"5\")\n",
       "        .then(() => maybeLoadScript(\"vega-lite\", \"4.17.0\"))\n",
       "        .then(() => maybeLoadScript(\"vega-embed\", \"6\"))\n",
       "        .catch(showError)\n",
       "        .then(() => displayChart(vegaEmbed));\n",
       "    }\n",
       "  })({\"config\": {\"view\": {\"continuousWidth\": 400, \"continuousHeight\": 300}}, \"data\": {\"name\": \"data-86d1d7476d6cf273810db465707f1557\"}, \"mark\": \"point\", \"encoding\": {\"color\": {\"field\": \"cidade\", \"type\": \"nominal\"}, \"tooltip\": [{\"field\": \"cidade\", \"type\": \"nominal\"}, {\"field\": \"descricao\", \"type\": \"nominal\"}], \"x\": {\"field\": \"temperatura\", \"type\": \"quantitative\"}, \"y\": {\"field\": \"mes\", \"type\": \"nominal\"}}, \"selection\": {\"selector001\": {\"type\": \"interval\", \"bind\": \"scales\", \"encodings\": [\"x\", \"y\"]}}, \"$schema\": \"https://vega.github.io/schema/vega-lite/v4.17.0.json\", \"datasets\": {\"data-86d1d7476d6cf273810db465707f1557\": [{\"cidade\": \"Ouro Preto\", \"descricao\": \"O cora\\u00e7\\u00e3o de Minas\", \"mes\": \"Jan\", \"temperatura\": 24.5}, {\"cidade\": \"Ouro Preto\", \"descricao\": \"O cora\\u00e7\\u00e3o de Minas\", \"mes\": \"Mai\", \"temperatura\": 18.7}, {\"cidade\": \"Ouro Preto\", \"descricao\": \"O cora\\u00e7\\u00e3o de Minas\", \"mes\": \"Set\", \"temperatura\": 21.3}, {\"cidade\": \"Congonhas\", \"descricao\": \"A cidade dos Profetas\", \"mes\": \"Jan\", \"temperatura\": 27.2}, {\"cidade\": \"Congonhas\", \"descricao\": \"A cidade dos Profetas\", \"mes\": \"Mai\", \"temperatura\": 16.4}, {\"cidade\": \"Congonhas\", \"descricao\": \"A cidade dos Profetas\", \"mes\": \"Set\", \"temperatura\": 23.8}, {\"cidade\": \"Tiradentes\", \"descricao\": \"A mais charmosa de Minas\", \"mes\": \"Jan\", \"temperatura\": 32.5}, {\"cidade\": \"Tiradentes\", \"descricao\": \"A mais charmosa de Minas\", \"mes\": \"Mai\", \"temperatura\": 9.7}, {\"cidade\": \"Tiradentes\", \"descricao\": \"A mais charmosa de Minas\", \"mes\": \"Set\", \"temperatura\": 26.3}]}}, {\"mode\": \"vega-lite\"});\n",
       "</script>"
      ],
      "text/plain": [
       "alt.Chart(...)"
      ]
     },
     "execution_count": 10,
     "metadata": {},
     "output_type": "execute_result"
    }
   ],
   "source": [
    "alt.Chart(dados).mark_point().encode(\n",
    "    y = 'mes',    \n",
    "    x = 'temperatura',\n",
    "    color = 'cidade',\n",
    "    tooltip = ['cidade', 'descricao'] # lista de duas variáveis codificadas para interatividade\n",
    ").interactive()"
   ]
  },
  {
   "cell_type": "markdown",
   "metadata": {},
   "source": [
    "Perceba que as duas variáveis codificadas em `tooltip` surgem quando o cursor é posicionado sobre cada ponto do gráfico. A interatividade também permite que o usuário aplique zoom ou movimente o interior do gráfico. Vale repetir, a linguagem declarativa permite a sobreposição de diversas funcionalidades com pouquíssimas linhas de código.\n",
    "\n",
    "O exemplo que criamos pode ser muito simples, e não transmitir de maneira apropriada a **capacidade e a elegância** dessa biblioteca, mas você certamente irá apreciar a facilidade na criação de visualizações extremamente sofisticadas, incluindo datasets com dezenas de variáveis e milhares de observações."
   ]
  },
  {
   "cell_type": "markdown",
   "metadata": {},
   "source": [
    "## Agregação de Dados"
   ]
  },
  {
   "cell_type": "markdown",
   "metadata": {},
   "source": [
    "Outra funcionalidade de Altair e sua linguagem declarativa é a capacidade de realização agregação de dados dentro das especificação da visualização, ou seja, elimina a necessidade de se utilizar pandas e agregar os dados antes de cada visualização. Isso proporciona mais velocidade e mais espaço para explorar e experimentar, o que é extremamente importante.\n",
    "\n",
    "No exemplo abaixo, nós iremos agregar os dados calculando a média da temperatura dentro do canal de codificação, isto é, iremos codificar a média das temperaturas no eixo-x:"
   ]
  },
  {
   "cell_type": "code",
   "execution_count": 11,
   "metadata": {},
   "outputs": [
    {
     "data": {
      "text/html": [
       "\n",
       "<div id=\"altair-viz-012749daf5ad4df59a005bc1aba23157\"></div>\n",
       "<script type=\"text/javascript\">\n",
       "  var VEGA_DEBUG = (typeof VEGA_DEBUG == \"undefined\") ? {} : VEGA_DEBUG;\n",
       "  (function(spec, embedOpt){\n",
       "    let outputDiv = document.currentScript.previousElementSibling;\n",
       "    if (outputDiv.id !== \"altair-viz-012749daf5ad4df59a005bc1aba23157\") {\n",
       "      outputDiv = document.getElementById(\"altair-viz-012749daf5ad4df59a005bc1aba23157\");\n",
       "    }\n",
       "    const paths = {\n",
       "      \"vega\": \"https://cdn.jsdelivr.net/npm//vega@5?noext\",\n",
       "      \"vega-lib\": \"https://cdn.jsdelivr.net/npm//vega-lib?noext\",\n",
       "      \"vega-lite\": \"https://cdn.jsdelivr.net/npm//vega-lite@4.17.0?noext\",\n",
       "      \"vega-embed\": \"https://cdn.jsdelivr.net/npm//vega-embed@6?noext\",\n",
       "    };\n",
       "\n",
       "    function maybeLoadScript(lib, version) {\n",
       "      var key = `${lib.replace(\"-\", \"\")}_version`;\n",
       "      return (VEGA_DEBUG[key] == version) ?\n",
       "        Promise.resolve(paths[lib]) :\n",
       "        new Promise(function(resolve, reject) {\n",
       "          var s = document.createElement('script');\n",
       "          document.getElementsByTagName(\"head\")[0].appendChild(s);\n",
       "          s.async = true;\n",
       "          s.onload = () => {\n",
       "            VEGA_DEBUG[key] = version;\n",
       "            return resolve(paths[lib]);\n",
       "          };\n",
       "          s.onerror = () => reject(`Error loading script: ${paths[lib]}`);\n",
       "          s.src = paths[lib];\n",
       "        });\n",
       "    }\n",
       "\n",
       "    function showError(err) {\n",
       "      outputDiv.innerHTML = `<div class=\"error\" style=\"color:red;\">${err}</div>`;\n",
       "      throw err;\n",
       "    }\n",
       "\n",
       "    function displayChart(vegaEmbed) {\n",
       "      vegaEmbed(outputDiv, spec, embedOpt)\n",
       "        .catch(err => showError(`Javascript Error: ${err.message}<br>This usually means there's a typo in your chart specification. See the javascript console for the full traceback.`));\n",
       "    }\n",
       "\n",
       "    if(typeof define === \"function\" && define.amd) {\n",
       "      requirejs.config({paths});\n",
       "      require([\"vega-embed\"], displayChart, err => showError(`Error loading script: ${err.message}`));\n",
       "    } else {\n",
       "      maybeLoadScript(\"vega\", \"5\")\n",
       "        .then(() => maybeLoadScript(\"vega-lite\", \"4.17.0\"))\n",
       "        .then(() => maybeLoadScript(\"vega-embed\", \"6\"))\n",
       "        .catch(showError)\n",
       "        .then(() => displayChart(vegaEmbed));\n",
       "    }\n",
       "  })({\"config\": {\"view\": {\"continuousWidth\": 400, \"continuousHeight\": 300}}, \"data\": {\"name\": \"data-86d1d7476d6cf273810db465707f1557\"}, \"mark\": \"point\", \"encoding\": {\"x\": {\"aggregate\": \"mean\", \"field\": \"temperatura\", \"type\": \"quantitative\"}, \"y\": {\"field\": \"cidade\", \"type\": \"nominal\"}}, \"$schema\": \"https://vega.github.io/schema/vega-lite/v4.17.0.json\", \"datasets\": {\"data-86d1d7476d6cf273810db465707f1557\": [{\"cidade\": \"Ouro Preto\", \"descricao\": \"O cora\\u00e7\\u00e3o de Minas\", \"mes\": \"Jan\", \"temperatura\": 24.5}, {\"cidade\": \"Ouro Preto\", \"descricao\": \"O cora\\u00e7\\u00e3o de Minas\", \"mes\": \"Mai\", \"temperatura\": 18.7}, {\"cidade\": \"Ouro Preto\", \"descricao\": \"O cora\\u00e7\\u00e3o de Minas\", \"mes\": \"Set\", \"temperatura\": 21.3}, {\"cidade\": \"Congonhas\", \"descricao\": \"A cidade dos Profetas\", \"mes\": \"Jan\", \"temperatura\": 27.2}, {\"cidade\": \"Congonhas\", \"descricao\": \"A cidade dos Profetas\", \"mes\": \"Mai\", \"temperatura\": 16.4}, {\"cidade\": \"Congonhas\", \"descricao\": \"A cidade dos Profetas\", \"mes\": \"Set\", \"temperatura\": 23.8}, {\"cidade\": \"Tiradentes\", \"descricao\": \"A mais charmosa de Minas\", \"mes\": \"Jan\", \"temperatura\": 32.5}, {\"cidade\": \"Tiradentes\", \"descricao\": \"A mais charmosa de Minas\", \"mes\": \"Mai\", \"temperatura\": 9.7}, {\"cidade\": \"Tiradentes\", \"descricao\": \"A mais charmosa de Minas\", \"mes\": \"Set\", \"temperatura\": 26.3}]}}, {\"mode\": \"vega-lite\"});\n",
       "</script>"
      ],
      "text/plain": [
       "alt.Chart(...)"
      ]
     },
     "execution_count": 11,
     "metadata": {},
     "output_type": "execute_result"
    }
   ],
   "source": [
    "alt.Chart(dados).mark_point().encode(\n",
    "    x='mean(temperatura)',\n",
    "    y='cidade'\n",
    ")"
   ]
  },
  {
   "cell_type": "markdown",
   "metadata": {},
   "source": [
    "Ouro Preto apresenta a menor temperarura média. Podemos explorar agora outros tipos de gráfico para essa aplicação, o que equivale dizer outras marcas gráficas."
   ]
  },
  {
   "cell_type": "markdown",
   "metadata": {},
   "source": [
    "## Alterando o Tipo de Marca"
   ]
  },
  {
   "cell_type": "markdown",
   "metadata": {},
   "source": [
    "Vamos alterar o tipo de marca que utilizamos até agora para visualizar os dados para barras retangulares, para isso iremos substituir `mark_point` por `mark_bar`:"
   ]
  },
  {
   "cell_type": "code",
   "execution_count": 12,
   "metadata": {},
   "outputs": [
    {
     "data": {
      "text/html": [
       "\n",
       "<div id=\"altair-viz-e166176e6d82460aabce62260b62a459\"></div>\n",
       "<script type=\"text/javascript\">\n",
       "  var VEGA_DEBUG = (typeof VEGA_DEBUG == \"undefined\") ? {} : VEGA_DEBUG;\n",
       "  (function(spec, embedOpt){\n",
       "    let outputDiv = document.currentScript.previousElementSibling;\n",
       "    if (outputDiv.id !== \"altair-viz-e166176e6d82460aabce62260b62a459\") {\n",
       "      outputDiv = document.getElementById(\"altair-viz-e166176e6d82460aabce62260b62a459\");\n",
       "    }\n",
       "    const paths = {\n",
       "      \"vega\": \"https://cdn.jsdelivr.net/npm//vega@5?noext\",\n",
       "      \"vega-lib\": \"https://cdn.jsdelivr.net/npm//vega-lib?noext\",\n",
       "      \"vega-lite\": \"https://cdn.jsdelivr.net/npm//vega-lite@4.17.0?noext\",\n",
       "      \"vega-embed\": \"https://cdn.jsdelivr.net/npm//vega-embed@6?noext\",\n",
       "    };\n",
       "\n",
       "    function maybeLoadScript(lib, version) {\n",
       "      var key = `${lib.replace(\"-\", \"\")}_version`;\n",
       "      return (VEGA_DEBUG[key] == version) ?\n",
       "        Promise.resolve(paths[lib]) :\n",
       "        new Promise(function(resolve, reject) {\n",
       "          var s = document.createElement('script');\n",
       "          document.getElementsByTagName(\"head\")[0].appendChild(s);\n",
       "          s.async = true;\n",
       "          s.onload = () => {\n",
       "            VEGA_DEBUG[key] = version;\n",
       "            return resolve(paths[lib]);\n",
       "          };\n",
       "          s.onerror = () => reject(`Error loading script: ${paths[lib]}`);\n",
       "          s.src = paths[lib];\n",
       "        });\n",
       "    }\n",
       "\n",
       "    function showError(err) {\n",
       "      outputDiv.innerHTML = `<div class=\"error\" style=\"color:red;\">${err}</div>`;\n",
       "      throw err;\n",
       "    }\n",
       "\n",
       "    function displayChart(vegaEmbed) {\n",
       "      vegaEmbed(outputDiv, spec, embedOpt)\n",
       "        .catch(err => showError(`Javascript Error: ${err.message}<br>This usually means there's a typo in your chart specification. See the javascript console for the full traceback.`));\n",
       "    }\n",
       "\n",
       "    if(typeof define === \"function\" && define.amd) {\n",
       "      requirejs.config({paths});\n",
       "      require([\"vega-embed\"], displayChart, err => showError(`Error loading script: ${err.message}`));\n",
       "    } else {\n",
       "      maybeLoadScript(\"vega\", \"5\")\n",
       "        .then(() => maybeLoadScript(\"vega-lite\", \"4.17.0\"))\n",
       "        .then(() => maybeLoadScript(\"vega-embed\", \"6\"))\n",
       "        .catch(showError)\n",
       "        .then(() => displayChart(vegaEmbed));\n",
       "    }\n",
       "  })({\"config\": {\"view\": {\"continuousWidth\": 400, \"continuousHeight\": 300}}, \"data\": {\"name\": \"data-86d1d7476d6cf273810db465707f1557\"}, \"mark\": \"bar\", \"encoding\": {\"x\": {\"aggregate\": \"mean\", \"field\": \"temperatura\", \"type\": \"quantitative\"}, \"y\": {\"field\": \"cidade\", \"type\": \"nominal\"}}, \"$schema\": \"https://vega.github.io/schema/vega-lite/v4.17.0.json\", \"datasets\": {\"data-86d1d7476d6cf273810db465707f1557\": [{\"cidade\": \"Ouro Preto\", \"descricao\": \"O cora\\u00e7\\u00e3o de Minas\", \"mes\": \"Jan\", \"temperatura\": 24.5}, {\"cidade\": \"Ouro Preto\", \"descricao\": \"O cora\\u00e7\\u00e3o de Minas\", \"mes\": \"Mai\", \"temperatura\": 18.7}, {\"cidade\": \"Ouro Preto\", \"descricao\": \"O cora\\u00e7\\u00e3o de Minas\", \"mes\": \"Set\", \"temperatura\": 21.3}, {\"cidade\": \"Congonhas\", \"descricao\": \"A cidade dos Profetas\", \"mes\": \"Jan\", \"temperatura\": 27.2}, {\"cidade\": \"Congonhas\", \"descricao\": \"A cidade dos Profetas\", \"mes\": \"Mai\", \"temperatura\": 16.4}, {\"cidade\": \"Congonhas\", \"descricao\": \"A cidade dos Profetas\", \"mes\": \"Set\", \"temperatura\": 23.8}, {\"cidade\": \"Tiradentes\", \"descricao\": \"A mais charmosa de Minas\", \"mes\": \"Jan\", \"temperatura\": 32.5}, {\"cidade\": \"Tiradentes\", \"descricao\": \"A mais charmosa de Minas\", \"mes\": \"Mai\", \"temperatura\": 9.7}, {\"cidade\": \"Tiradentes\", \"descricao\": \"A mais charmosa de Minas\", \"mes\": \"Set\", \"temperatura\": 26.3}]}}, {\"mode\": \"vega-lite\"});\n",
       "</script>"
      ],
      "text/plain": [
       "alt.Chart(...)"
      ]
     },
     "execution_count": 12,
     "metadata": {},
     "output_type": "execute_result"
    }
   ],
   "source": [
    "alt.Chart(dados).mark_bar().encode(\n",
    "    x='mean(temperatura)',\n",
    "    y='cidade'\n",
    ")"
   ]
  },
  {
   "cell_type": "markdown",
   "metadata": {},
   "source": [
    "Digamos que você queira visualizar as barras na posição vertical. Perceba que nós não especificamos que as barras deveriam ser horizontais, como seria o caso para uma linguagem imperativa. Para alterar a orientação das barras, nós devemos apenas alterar as especificações dos canais de codificação, o que iremos fazer em seguida – e iremos também incluir a descrição da cidade quando o cursor estiver sobre as baras."
   ]
  },
  {
   "cell_type": "code",
   "execution_count": 13,
   "metadata": {},
   "outputs": [
    {
     "data": {
      "text/html": [
       "\n",
       "<div id=\"altair-viz-141bfa70f78c4f6ea959562f939b8891\"></div>\n",
       "<script type=\"text/javascript\">\n",
       "  var VEGA_DEBUG = (typeof VEGA_DEBUG == \"undefined\") ? {} : VEGA_DEBUG;\n",
       "  (function(spec, embedOpt){\n",
       "    let outputDiv = document.currentScript.previousElementSibling;\n",
       "    if (outputDiv.id !== \"altair-viz-141bfa70f78c4f6ea959562f939b8891\") {\n",
       "      outputDiv = document.getElementById(\"altair-viz-141bfa70f78c4f6ea959562f939b8891\");\n",
       "    }\n",
       "    const paths = {\n",
       "      \"vega\": \"https://cdn.jsdelivr.net/npm//vega@5?noext\",\n",
       "      \"vega-lib\": \"https://cdn.jsdelivr.net/npm//vega-lib?noext\",\n",
       "      \"vega-lite\": \"https://cdn.jsdelivr.net/npm//vega-lite@4.17.0?noext\",\n",
       "      \"vega-embed\": \"https://cdn.jsdelivr.net/npm//vega-embed@6?noext\",\n",
       "    };\n",
       "\n",
       "    function maybeLoadScript(lib, version) {\n",
       "      var key = `${lib.replace(\"-\", \"\")}_version`;\n",
       "      return (VEGA_DEBUG[key] == version) ?\n",
       "        Promise.resolve(paths[lib]) :\n",
       "        new Promise(function(resolve, reject) {\n",
       "          var s = document.createElement('script');\n",
       "          document.getElementsByTagName(\"head\")[0].appendChild(s);\n",
       "          s.async = true;\n",
       "          s.onload = () => {\n",
       "            VEGA_DEBUG[key] = version;\n",
       "            return resolve(paths[lib]);\n",
       "          };\n",
       "          s.onerror = () => reject(`Error loading script: ${paths[lib]}`);\n",
       "          s.src = paths[lib];\n",
       "        });\n",
       "    }\n",
       "\n",
       "    function showError(err) {\n",
       "      outputDiv.innerHTML = `<div class=\"error\" style=\"color:red;\">${err}</div>`;\n",
       "      throw err;\n",
       "    }\n",
       "\n",
       "    function displayChart(vegaEmbed) {\n",
       "      vegaEmbed(outputDiv, spec, embedOpt)\n",
       "        .catch(err => showError(`Javascript Error: ${err.message}<br>This usually means there's a typo in your chart specification. See the javascript console for the full traceback.`));\n",
       "    }\n",
       "\n",
       "    if(typeof define === \"function\" && define.amd) {\n",
       "      requirejs.config({paths});\n",
       "      require([\"vega-embed\"], displayChart, err => showError(`Error loading script: ${err.message}`));\n",
       "    } else {\n",
       "      maybeLoadScript(\"vega\", \"5\")\n",
       "        .then(() => maybeLoadScript(\"vega-lite\", \"4.17.0\"))\n",
       "        .then(() => maybeLoadScript(\"vega-embed\", \"6\"))\n",
       "        .catch(showError)\n",
       "        .then(() => displayChart(vegaEmbed));\n",
       "    }\n",
       "  })({\"config\": {\"view\": {\"continuousWidth\": 400, \"continuousHeight\": 300}}, \"data\": {\"name\": \"data-86d1d7476d6cf273810db465707f1557\"}, \"mark\": \"bar\", \"encoding\": {\"tooltip\": {\"field\": \"descricao\", \"type\": \"nominal\"}, \"x\": {\"field\": \"cidade\", \"type\": \"nominal\"}, \"y\": {\"aggregate\": \"mean\", \"field\": \"temperatura\", \"type\": \"quantitative\"}}, \"$schema\": \"https://vega.github.io/schema/vega-lite/v4.17.0.json\", \"datasets\": {\"data-86d1d7476d6cf273810db465707f1557\": [{\"cidade\": \"Ouro Preto\", \"descricao\": \"O cora\\u00e7\\u00e3o de Minas\", \"mes\": \"Jan\", \"temperatura\": 24.5}, {\"cidade\": \"Ouro Preto\", \"descricao\": \"O cora\\u00e7\\u00e3o de Minas\", \"mes\": \"Mai\", \"temperatura\": 18.7}, {\"cidade\": \"Ouro Preto\", \"descricao\": \"O cora\\u00e7\\u00e3o de Minas\", \"mes\": \"Set\", \"temperatura\": 21.3}, {\"cidade\": \"Congonhas\", \"descricao\": \"A cidade dos Profetas\", \"mes\": \"Jan\", \"temperatura\": 27.2}, {\"cidade\": \"Congonhas\", \"descricao\": \"A cidade dos Profetas\", \"mes\": \"Mai\", \"temperatura\": 16.4}, {\"cidade\": \"Congonhas\", \"descricao\": \"A cidade dos Profetas\", \"mes\": \"Set\", \"temperatura\": 23.8}, {\"cidade\": \"Tiradentes\", \"descricao\": \"A mais charmosa de Minas\", \"mes\": \"Jan\", \"temperatura\": 32.5}, {\"cidade\": \"Tiradentes\", \"descricao\": \"A mais charmosa de Minas\", \"mes\": \"Mai\", \"temperatura\": 9.7}, {\"cidade\": \"Tiradentes\", \"descricao\": \"A mais charmosa de Minas\", \"mes\": \"Set\", \"temperatura\": 26.3}]}}, {\"mode\": \"vega-lite\"});\n",
       "</script>"
      ],
      "text/plain": [
       "alt.Chart(...)"
      ]
     },
     "execution_count": 13,
     "metadata": {},
     "output_type": "execute_result"
    }
   ],
   "source": [
    "alt.Chart(dados).mark_bar().encode(\n",
    "    y='mean(temperatura)',\n",
    "    x='cidade',           # cidade está agora codificada no eixo-x\n",
    "    tooltip = 'descricao' # descrição codificada em tooltip\n",
    ")"
   ]
  },
  {
   "cell_type": "markdown",
   "metadata": {},
   "source": [
    "Vega-lite foi desenvolvida pelo [Laboratório de Visualizações Interativas da Universidade de Washington](https://idl.cs.washington.edu/). As propriedades dos gráficos, como dimensões, escalas, legendas, esquema de cores e etc são baseadas em décadas de pesquisa e são implementadas seguindo as melhores e mais atualizadas práticas.\n",
    "\n",
    "Seguem os links para alguns videos que ilustram as motivações para a criação de Vega-lite por [Jeffrey Heer](https://www.youtube.com/watch?v=hsfWtPH2kDg) e [equipe](https://www.youtube.com/watch?v=9uaHRWj04D4&t=8s), bem como as motivações para criação de Altair, por [Jake VanderPlas](https://www.youtube.com/watch?v=FytuB8nFHPQ&t=5s) e [Brian Granger](https://www.youtube.com/watch?v=aRxahWy-ul8&t=583s)."
   ]
  },
  {
   "cell_type": "markdown",
   "metadata": {},
   "source": [
    "[![Kaggle](https://kaggle.com/static/images/open-in-kaggle.svg)](https://www.kaggle.com/code/ollliveira/vega-altair-uma-breve-introdu-o)<br>"
   ]
  }
 ],
 "metadata": {
  "kernelspec": {
   "display_name": "Python 3 (ipykernel)",
   "language": "python",
   "name": "python3"
  },
  "language_info": {
   "codemirror_mode": {
    "name": "ipython",
    "version": 3
   },
   "file_extension": ".py",
   "mimetype": "text/x-python",
   "name": "python",
   "nbconvert_exporter": "python",
   "pygments_lexer": "ipython3",
   "version": "3.9.12"
  },
  "vscode": {
   "interpreter": {
    "hash": "aee8b7b246df8f9039afb4144a1f6fd8d2ca17a180786b69acc140d282b71a49"
   }
  }
 },
 "nbformat": 4,
 "nbformat_minor": 4
}
